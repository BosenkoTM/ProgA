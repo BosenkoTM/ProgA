{
  "nbformat": 4,
  "nbformat_minor": 0,
  "metadata": {
    "colab": {
      "name": "Программирование для аналитиков лекц 1.ipynb",
      "provenance": [],
      "authorship_tag": "ABX9TyP3m99xs+cfnCEc3Pjwyul7",
      "include_colab_link": true
    },
    "kernelspec": {
      "name": "python3",
      "display_name": "Python 3"
    }
  },
  "cells": [
    {
      "cell_type": "markdown",
      "metadata": {
        "id": "view-in-github",
        "colab_type": "text"
      },
      "source": [
        "<a href=\"https://colab.research.google.com/github/BosenkoTM/ProgA/blob/main/%D0%9F%D1%80%D0%BE%D0%B3%D1%80%D0%B0%D0%BC%D0%BC%D0%B8%D1%80%D0%BE%D0%B2%D0%B0%D0%BD%D0%B8%D0%B5_%D0%B4%D0%BB%D1%8F_%D0%B0%D0%BD%D0%B0%D0%BB%D0%B8%D1%82%D0%B8%D0%BA%D0%BE%D0%B2_%D0%BB%D0%B5%D0%BA%D1%86_1.ipynb\" target=\"_parent\"><img src=\"https://colab.research.google.com/assets/colab-badge.svg\" alt=\"Open In Colab\"/></a>"
      ]
    },
    {
      "cell_type": "markdown",
      "metadata": {
        "id": "CgRW1W3_gWkw"
      },
      "source": [
        "# Создание массивов"
      ]
    },
    {
      "cell_type": "markdown",
      "metadata": {
        "id": "95qfVJqlRiAF"
      },
      "source": [
        "Массив\r\n",
        "Для начала нужно импортировать модуль."
      ]
    },
    {
      "cell_type": "code",
      "metadata": {
        "id": "p5RbIXzoRpCG"
      },
      "source": [
        "import numpy as np"
      ],
      "execution_count": 1,
      "outputs": []
    },
    {
      "cell_type": "markdown",
      "metadata": {
        "id": "xJwIMGHIRsaR"
      },
      "source": [
        "Создание массива из списка:"
      ]
    },
    {
      "cell_type": "code",
      "metadata": {
        "colab": {
          "base_uri": "https://localhost:8080/"
        },
        "id": "Cbu-6MevRtiy",
        "outputId": "38b23b76-c62b-4a78-fcbb-197aed77626d"
      },
      "source": [
        "arr = np.array([1, 2, 3, 4, 5])\r\n",
        "print(arr)\r\n",
        "type(a)"
      ],
      "execution_count": null,
      "outputs": [
        {
          "output_type": "stream",
          "text": [
            "[1 2 3 4 5]\n"
          ],
          "name": "stdout"
        },
        {
          "output_type": "execute_result",
          "data": {
            "text/plain": [
              "numpy.ndarray"
            ]
          },
          "metadata": {
            "tags": []
          },
          "execution_count": 10
        }
      ]
    },
    {
      "cell_type": "markdown",
      "metadata": {
        "id": "QnJIpgbZRwbH"
      },
      "source": [
        "**Numpy** автоматически вычисляет тип, узнать его можно обратившись к полю **dtype**"
      ]
    },
    {
      "cell_type": "code",
      "metadata": {
        "colab": {
          "base_uri": "https://localhost:8080/"
        },
        "id": "9BCZ3lRYR1vQ",
        "outputId": "ead1e96a-0e2d-484b-b742-5ab2864ea3e5"
      },
      "source": [
        "print(arr.dtype) # int64"
      ],
      "execution_count": null,
      "outputs": [
        {
          "output_type": "stream",
          "text": [
            "int64\n"
          ],
          "name": "stdout"
        }
      ]
    },
    {
      "cell_type": "code",
      "metadata": {
        "colab": {
          "base_uri": "https://localhost:8080/"
        },
        "id": "FQlUPbtxR6Yd",
        "outputId": "9419d6bf-8ea0-4f49-dbd3-bf5c0e5b66d8"
      },
      "source": [
        "arr = np.array([1, 2, 3.14])\r\n",
        "print(arr.dtype) # float64"
      ],
      "execution_count": null,
      "outputs": [
        {
          "output_type": "stream",
          "text": [
            "float64\n"
          ],
          "name": "stdout"
        }
      ]
    },
    {
      "cell_type": "markdown",
      "metadata": {
        "id": "g35evxBPR_oE"
      },
      "source": [
        "Если **numpy** не может подобрать тип, то он сохраняет все как есть, тип в таком случае получается **object**\r\n",
        "\r\n",
        "Также важным атрибутом массивов является их форма:"
      ]
    },
    {
      "cell_type": "code",
      "metadata": {
        "colab": {
          "base_uri": "https://localhost:8080/"
        },
        "id": "wqceFc_eSCOG",
        "outputId": "7fbbcae8-e945-4486-e034-977559364d78"
      },
      "source": [
        "arr = np.array([1, 2, 3])\r\n",
        "print(arr.shape) # (3,)"
      ],
      "execution_count": null,
      "outputs": [
        {
          "output_type": "stream",
          "text": [
            "(3,)\n"
          ],
          "name": "stdout"
        }
      ]
    },
    {
      "cell_type": "markdown",
      "metadata": {
        "id": "KyoFAFKpewSJ"
      },
      "source": [
        "Функция **array()** трансформирует вложенные последовательности в многомерные массивы. Тип элементов массива зависит от типа элементов исходной последовательности (но можно и переопределить его в момент создания)."
      ]
    },
    {
      "cell_type": "code",
      "metadata": {
        "colab": {
          "base_uri": "https://localhost:8080/"
        },
        "id": "MDNYXHOZe03z",
        "outputId": "2ca0ed51-0786-4191-da41-8e3903e62414"
      },
      "source": [
        "b = np.array([[1.5, 2, 3], [4, 5, 6]], dtype=np.complex)\r\n",
        "b"
      ],
      "execution_count": null,
      "outputs": [
        {
          "output_type": "execute_result",
          "data": {
            "text/plain": [
              "array([[1.5+0.j, 2. +0.j, 3. +0.j],\n",
              "       [4. +0.j, 5. +0.j, 6. +0.j]])"
            ]
          },
          "metadata": {
            "tags": []
          },
          "execution_count": 11
        }
      ]
    },
    {
      "cell_type": "markdown",
      "metadata": {
        "id": "k8Vqi944fDWf"
      },
      "source": [
        "Функция **array()** не единственная функция для создания массивов. Обычно элементы массива вначале неизвестны, а массив, в котором они будут храниться, уже нужен. Поэтому имеется несколько функций для того, чтобы создавать массивы с каким-то исходным содержимым (по умолчанию тип создаваемого массива — float64).\r\n",
        "\r\n",
        "Функция **zeros()** создает массив из нулей, а функция **ones()** — массив из единиц. Обе функции принимают кортеж с размерами, и аргумент dtype:"
      ]
    },
    {
      "cell_type": "code",
      "metadata": {
        "colab": {
          "base_uri": "https://localhost:8080/"
        },
        "id": "gN4pPvhUfL-V",
        "outputId": "675f0cfd-cb80-43c9-f5c7-33243fa0aebf"
      },
      "source": [
        "np.zeros((3, 5))\r\n",
        "np.ones((2, 2, 2))"
      ],
      "execution_count": null,
      "outputs": [
        {
          "output_type": "execute_result",
          "data": {
            "text/plain": [
              "array([[[1., 1.],\n",
              "        [1., 1.]],\n",
              "\n",
              "       [[1., 1.],\n",
              "        [1., 1.]]])"
            ]
          },
          "metadata": {
            "tags": []
          },
          "execution_count": 12
        }
      ]
    },
    {
      "cell_type": "markdown",
      "metadata": {
        "id": "EWBvKcbHfT6R"
      },
      "source": [
        "Функция **eye()** создаёт единичную матрицу (двумерный массив)"
      ]
    },
    {
      "cell_type": "code",
      "metadata": {
        "colab": {
          "base_uri": "https://localhost:8080/"
        },
        "id": "4ylg0PKrfWdG",
        "outputId": "dfa8b8cc-173f-492e-b977-09ec0556ccbd"
      },
      "source": [
        "np.eye(5)"
      ],
      "execution_count": null,
      "outputs": [
        {
          "output_type": "execute_result",
          "data": {
            "text/plain": [
              "array([[1., 0., 0., 0., 0.],\n",
              "       [0., 1., 0., 0., 0.],\n",
              "       [0., 0., 1., 0., 0.],\n",
              "       [0., 0., 0., 1., 0.],\n",
              "       [0., 0., 0., 0., 1.]])"
            ]
          },
          "metadata": {
            "tags": []
          },
          "execution_count": 13
        }
      ]
    },
    {
      "cell_type": "markdown",
      "metadata": {
        "id": "si92pYqNfZYF"
      },
      "source": [
        "Функция **empty()** создает массив без его заполнения. Исходное содержимое случайно и зависит от состояния памяти на момент создания массива (то есть от того мусора, что в ней хранится):"
      ]
    },
    {
      "cell_type": "code",
      "metadata": {
        "colab": {
          "base_uri": "https://localhost:8080/"
        },
        "id": "mGCArN_jfdy7",
        "outputId": "f64594c4-7701-49e6-cee6-73d761946236"
      },
      "source": [
        "np.empty((3, 3))\r\n",
        "np.empty((3, 3))"
      ],
      "execution_count": 2,
      "outputs": [
        {
          "output_type": "execute_result",
          "data": {
            "text/plain": [
              "array([[3.8725545e-316, 0.0000000e+000, 0.0000000e+000],\n",
              "       [0.0000000e+000, 0.0000000e+000, 0.0000000e+000],\n",
              "       [0.0000000e+000, 0.0000000e+000, 0.0000000e+000]])"
            ]
          },
          "metadata": {
            "tags": []
          },
          "execution_count": 2
        }
      ]
    },
    {
      "cell_type": "markdown",
      "metadata": {
        "id": "4SuXK5befpRD"
      },
      "source": [
        "Вообще, при использовании **arange()** с аргументами типа **float**, сложно быть уверенным в том, сколько элементов будет получено (из-за ограничения точности чисел с плавающей запятой). Поэтому, в таких случаях обычно лучше использовать функцию **linspace()**, которая вместо шага в качестве одного из аргументов принимает число, равное количеству нужных элементов:"
      ]
    },
    {
      "cell_type": "code",
      "metadata": {
        "id": "9IoCfwnZfy5L"
      },
      "source": [
        "np.linspace(0, 2, 9)  # 9 чисел от 0 до 2 включительно"
      ],
      "execution_count": null,
      "outputs": []
    },
    {
      "cell_type": "markdown",
      "metadata": {
        "id": "jF4tpR8lf18y"
      },
      "source": [
        "**fromfunction()**: применяет функцию ко всем комбинациям индексов"
      ]
    },
    {
      "cell_type": "code",
      "metadata": {
        "colab": {
          "base_uri": "https://localhost:8080/"
        },
        "id": "50kuO_2Ff5yM",
        "outputId": "571ec935-5e06-4828-966f-52a6b859d9a0"
      },
      "source": [
        "def f1(i, j):\r\n",
        "    return 3 * i + j\r\n",
        "\r\n",
        "print(np.fromfunction(f1, (3, 4)))\r\n",
        "print(np.fromfunction(f1, (3, 3)))"
      ],
      "execution_count": null,
      "outputs": [
        {
          "output_type": "stream",
          "text": [
            "[[0. 1. 2. 3.]\n",
            " [3. 4. 5. 6.]\n",
            " [6. 7. 8. 9.]]\n",
            "[[0. 1. 2.]\n",
            " [3. 4. 5.]\n",
            " [6. 7. 8.]]\n"
          ],
          "name": "stdout"
        }
      ]
    },
    {
      "cell_type": "markdown",
      "metadata": {
        "id": "-V_E8vO7SLZY"
      },
      "source": [
        "По форме можно определить кол-во элементов по каждой из осей / каждому из измерений.\r\n",
        "\r\n",
        "Так, для двумерного массива получится следующий результат:"
      ]
    },
    {
      "cell_type": "code",
      "metadata": {
        "colab": {
          "base_uri": "https://localhost:8080/"
        },
        "id": "p9R6-SVeSMzB",
        "outputId": "ef758b50-d6c9-44c9-ede4-d95b159e7526"
      },
      "source": [
        "a = np.array([[1, 2], [3, 4], [5, 6]])\r\n",
        "print(a.shape) # (3, 2)"
      ],
      "execution_count": null,
      "outputs": [
        {
          "output_type": "stream",
          "text": [
            "(3, 2)\n"
          ],
          "name": "stdout"
        }
      ]
    },
    {
      "cell_type": "markdown",
      "metadata": {
        "id": "XNP9LtAiSZhK"
      },
      "source": [
        "Чтобы узнать полное кол-во элементов массиве есть поле size:"
      ]
    },
    {
      "cell_type": "code",
      "metadata": {
        "colab": {
          "base_uri": "https://localhost:8080/"
        },
        "id": "3SvmLktNSasY",
        "outputId": "78554b89-f86e-49df-9ad4-42eb450c83fb"
      },
      "source": [
        "a = np.array([[1, 2], [3, 4], [5, 6]])\r\n",
        "print(a.size) # 6"
      ],
      "execution_count": null,
      "outputs": [
        {
          "output_type": "stream",
          "text": [
            "6\n"
          ],
          "name": "stdout"
        }
      ]
    },
    {
      "cell_type": "markdown",
      "metadata": {
        "id": "wrY2531tgn3Q"
      },
      "source": [
        "# Печать массивов"
      ]
    },
    {
      "cell_type": "markdown",
      "metadata": {
        "id": "aGLZOInCgpWk"
      },
      "source": [
        "Если массив слишком большой, чтобы его печатать, NumPy автоматически скрывает центральную часть массива и выводит только его уголки."
      ]
    },
    {
      "cell_type": "code",
      "metadata": {
        "colab": {
          "base_uri": "https://localhost:8080/"
        },
        "id": "8N7-T5JJgteF",
        "outputId": "e02a9ff6-eb9d-47da-8ada-8e99ff030aec"
      },
      "source": [
        "print(np.arange(0, 3000, 1))"
      ],
      "execution_count": null,
      "outputs": [
        {
          "output_type": "stream",
          "text": [
            "[   0    1    2 ... 2997 2998 2999]\n"
          ],
          "name": "stdout"
        }
      ]
    },
    {
      "cell_type": "markdown",
      "metadata": {
        "id": "Md_iu_--gu2V"
      },
      "source": [
        "Если вам действительно нужно увидеть весь массив, используйте функцию numpy.set_printoptions:"
      ]
    },
    {
      "cell_type": "markdown",
      "metadata": {
        "id": "sVw2VNmKhdb5"
      },
      "source": [
        "# Базовые операции"
      ]
    },
    {
      "cell_type": "markdown",
      "metadata": {
        "id": "jg_l8_FChfhw"
      },
      "source": [
        "Математические операции над массивами выполняются поэлементно. Создается новый массив, который заполняется результатами действия оператора."
      ]
    },
    {
      "cell_type": "code",
      "metadata": {
        "colab": {
          "base_uri": "https://localhost:8080/"
        },
        "id": "eFPXcruFhhfq",
        "outputId": "640e4637-bba7-4433-c9d8-d412d43c9253"
      },
      "source": [
        "import sys\r\n",
        "import numpy as np\r\n",
        "\r\n",
        "a = np.array([20, 30, 40, 50])\r\n",
        "b = np.arange(4)\r\n",
        "print(a + b)\r\n",
        "print(a - b)\r\n",
        "print(a * b)\r\n",
        "print(a / b)  # При делении на 0 возвращается inf (бесконечность)\r\n",
        "print(a ** b)\r\n",
        "print(a % b)  # При взятии остатка от деления на 0 возвращается 0"
      ],
      "execution_count": null,
      "outputs": [
        {
          "output_type": "stream",
          "text": [
            "[20 31 42 53]\n",
            "[20 29 38 47]\n",
            "[  0  30  80 150]\n",
            "[        inf 30.         20.         16.66666667]\n",
            "[     1     30   1600 125000]\n",
            "[0 0 0 2]\n"
          ],
          "name": "stdout"
        },
        {
          "output_type": "stream",
          "text": [
            "/usr/local/lib/python3.6/dist-packages/ipykernel_launcher.py:9: RuntimeWarning: divide by zero encountered in true_divide\n",
            "  if __name__ == '__main__':\n",
            "/usr/local/lib/python3.6/dist-packages/ipykernel_launcher.py:11: RuntimeWarning: divide by zero encountered in remainder\n",
            "  # This is added back by InteractiveShellApp.init_path()\n"
          ],
          "name": "stderr"
        }
      ]
    },
    {
      "cell_type": "markdown",
      "metadata": {
        "id": "z1TJwsrvhlba"
      },
      "source": [
        "Также можно производить математические операции между массивом и числом. В этом случае к каждому элементу прибавляется (или что вы там делаете) это число."
      ]
    },
    {
      "cell_type": "code",
      "metadata": {
        "colab": {
          "base_uri": "https://localhost:8080/"
        },
        "id": "sN0G4Hu2ib_C",
        "outputId": "17caa213-0c33-4fde-d112-739d02ea313c"
      },
      "source": [
        "print(a + 1)\r\n",
        "print(a ** 3)\r\n",
        "print(a < 35)"
      ],
      "execution_count": null,
      "outputs": [
        {
          "output_type": "stream",
          "text": [
            "[21 31 41 51]\n",
            "[  8000  27000  64000 125000]\n",
            "[ True  True False False]\n"
          ],
          "name": "stdout"
        }
      ]
    },
    {
      "cell_type": "markdown",
      "metadata": {
        "id": "c-xM3mrAijMt"
      },
      "source": [
        "**NumPy** также предоставляет множество математических операций для обработки массивов:"
      ]
    },
    {
      "cell_type": "code",
      "metadata": {
        "colab": {
          "base_uri": "https://localhost:8080/"
        },
        "id": "N66Y-_PVimk_",
        "outputId": "66858686-880b-414e-daed-b14404603acf"
      },
      "source": [
        "print(np.cos(a))\r\n",
        "print(np.arctan(a))\r\n",
        "print(np.sinh(a))"
      ],
      "execution_count": null,
      "outputs": [
        {
          "output_type": "execute_result",
          "data": {
            "text/plain": [
              "array([2.42582598e+08, 5.34323729e+12, 1.17692633e+17, 2.59235276e+21])"
            ]
          },
          "metadata": {
            "tags": []
          },
          "execution_count": 7
        }
      ]
    },
    {
      "cell_type": "markdown",
      "metadata": {
        "id": "bPn_EaNhitYl"
      },
      "source": [
        "Многие унарные операции, такие как, например, вычисление суммы всех элементов массива, представлены также и в виде методов класса **ndarray**."
      ]
    },
    {
      "cell_type": "code",
      "metadata": {
        "colab": {
          "base_uri": "https://localhost:8080/"
        },
        "id": "OlcjXGisiuZ2",
        "outputId": "af585c98-09b5-46fc-a1db-303b9b837721"
      },
      "source": [
        "a = np.array([[1, 2, 3], [4, 5, 6]])\r\n",
        "print(np.sum(a))\r\n",
        "print(a.sum())\r\n",
        "print(a.min())\r\n",
        "print(a.max())"
      ],
      "execution_count": null,
      "outputs": [
        {
          "output_type": "stream",
          "text": [
            "21\n",
            "21\n",
            "1\n",
            "6\n"
          ],
          "name": "stdout"
        }
      ]
    },
    {
      "cell_type": "markdown",
      "metadata": {
        "id": "iJ412KlDi-Ba"
      },
      "source": [
        "# Индексы, срезы, итерации"
      ]
    },
    {
      "cell_type": "markdown",
      "metadata": {
        "id": "JdTTzpMGjRzY"
      },
      "source": [
        "Одномерные массивы осуществляют операции индексирования, срезов и итераций очень схожим образом с обычными списками и другими последовательностями Python (разве что удалять с помощью срезов нельзя)."
      ]
    },
    {
      "cell_type": "code",
      "metadata": {
        "colab": {
          "base_uri": "https://localhost:8080/"
        },
        "id": "5OrLG2eGjF3S",
        "outputId": "9899f4c9-e0b2-4f06-f18d-ec486392c75a"
      },
      "source": [
        "a = np.arange(10) ** 3\r\n",
        "print(a)\r\n",
        "print(a[1])\r\n",
        "print(a[3:7])\r\n",
        "a[3:7] = 8\r\n",
        "print(a)\r\n",
        "print(a[::-1])\r\n",
        "\r\n",
        "\r\n",
        "for i in a:\r\n",
        "    print(i ** (1/3))"
      ],
      "execution_count": null,
      "outputs": [
        {
          "output_type": "stream",
          "text": [
            "[  0   1   8  27  64 125 216 343 512 729]\n",
            "1\n",
            "[ 27  64 125 216]\n",
            "[  0   1   8   8   8   8   8 343 512 729]\n",
            "[729 512 343   8   8   8   8   8   1   0]\n",
            "0.0\n",
            "1.0\n",
            "2.0\n",
            "2.0\n",
            "2.0\n",
            "2.0\n",
            "2.0\n",
            "6.999999999999999\n",
            "7.999999999999999\n",
            "8.999999999999998\n"
          ],
          "name": "stdout"
        }
      ]
    },
    {
      "cell_type": "markdown",
      "metadata": {
        "id": "stm0siXQjnma"
      },
      "source": [
        "У многомерных массивов на каждую ось приходится один индекс. Индексы передаются в виде последовательности чисел, разделенных запятыми (то бишь, кортежами):"
      ]
    },
    {
      "cell_type": "code",
      "metadata": {
        "colab": {
          "base_uri": "https://localhost:8080/"
        },
        "id": "Ww8JpCqpjsfU",
        "outputId": "29004f31-22a8-407d-994f-ebd4d63bac8b"
      },
      "source": [
        "b = np.array([[  0, 1, 2, 3],\r\n",
        "              [10, 11, 12, 13],\r\n",
        "              [20, 21, 22, 23],\r\n",
        "              [30, 31, 32, 33],\r\n",
        "              [40, 41, 42, 43]])\r\n",
        "\r\n",
        "print(b[2,3])  # Вторая строка, третий столбец\r\n",
        "print(b[(2,3)])\r\n",
        "print(b[2][3]) # Можно и так\r\n",
        "print(b[:,2])  # Третий столбец\r\n",
        "print(b[:2])  # Первые две строки\r\n",
        "print(b[1:3, : : ])  # Вторая и третья строки"
      ],
      "execution_count": null,
      "outputs": [
        {
          "output_type": "stream",
          "text": [
            "23\n",
            "23\n",
            "23\n",
            "[ 2 12 22 32 42]\n",
            "[[ 0  1  2  3]\n",
            " [10 11 12 13]]\n",
            "[[10 11 12 13]\n",
            " [20 21 22 23]]\n"
          ],
          "name": "stdout"
        }
      ]
    },
    {
      "cell_type": "markdown",
      "metadata": {
        "id": "3YWFMAPgkqQ_"
      },
      "source": [
        "# Манипуляции с формой"
      ]
    },
    {
      "cell_type": "markdown",
      "metadata": {
        "id": "PSVNkltPkrlc"
      },
      "source": [
        " у массива есть форма (**shape**), определяемая числом элементов вдоль каждой оси:"
      ]
    },
    {
      "cell_type": "code",
      "metadata": {
        "colab": {
          "base_uri": "https://localhost:8080/"
        },
        "id": "csGDbIRTkvJq",
        "outputId": "eb6449ec-d194-4c5d-d84b-04502df1eef2"
      },
      "source": [
        "a\r\n",
        "a.shape"
      ],
      "execution_count": null,
      "outputs": [
        {
          "output_type": "execute_result",
          "data": {
            "text/plain": [
              "(10,)"
            ]
          },
          "metadata": {
            "tags": []
          },
          "execution_count": 14
        }
      ]
    },
    {
      "cell_type": "markdown",
      "metadata": {
        "id": "GuY7of_NlBjj"
      },
      "source": [
        "Форма массива может быть изменена с помощью различных команд:"
      ]
    },
    {
      "cell_type": "code",
      "metadata": {
        "colab": {
          "base_uri": "https://localhost:8080/"
        },
        "id": "G60HoNa7lCUN",
        "outputId": "5e4226f3-3636-431b-d4e6-5afbd5bfae14"
      },
      "source": [
        "a = np.array(([[0, 1, 2], [10, 12, 13]], [[100, 101, 102], [110, 112, 113]]))\r\n",
        "print(a.ravel())  # Делает массив плоским\r\n",
        "a.shape = (6, 2)  # Изменение формы\r\n",
        "print(a)\r\n",
        "print(a.transpose())  # Транспонирование\r\n",
        "print(a.reshape((3, 4)))  # Изменение формы"
      ],
      "execution_count": null,
      "outputs": [
        {
          "output_type": "stream",
          "text": [
            "[  0   1   2  10  12  13 100 101 102 110 112 113]\n",
            "[[  0   1]\n",
            " [  2  10]\n",
            " [ 12  13]\n",
            " [100 101]\n",
            " [102 110]\n",
            " [112 113]]\n",
            "[[  0   2  12 100 102 112]\n",
            " [  1  10  13 101 110 113]]\n",
            "[[  0   1   2  10]\n",
            " [ 12  13 100 101]\n",
            " [102 110 112 113]]\n"
          ],
          "name": "stdout"
        }
      ]
    },
    {
      "cell_type": "markdown",
      "metadata": {
        "id": "wSIKeCXrlf-a"
      },
      "source": [
        "# Объединение массивов"
      ]
    },
    {
      "cell_type": "markdown",
      "metadata": {
        "id": "TZLtZEv7loy4"
      },
      "source": [
        "Несколько массивов могут быть объединены вместе вдоль разных осей с помощью функций hstack и vstack.\r\n",
        "\r\n",
        "hstack() объединяет массивы по первым осям, vstack() — по последним:"
      ]
    },
    {
      "cell_type": "code",
      "metadata": {
        "colab": {
          "base_uri": "https://localhost:8080/"
        },
        "id": "D6g2362LlrB_",
        "outputId": "0f5e13ef-2042-48ac-a9f6-7e864ebe5f3e"
      },
      "source": [
        "a = np.array([[1, 2], [3, 4]])\r\n",
        "b = np.array([[5, 6], [7, 8]])\r\n",
        "print(np.vstack((a, b)))\r\n",
        "print(np.hstack((a, b)))"
      ],
      "execution_count": null,
      "outputs": [
        {
          "output_type": "stream",
          "text": [
            "[[1 2]\n",
            " [3 4]\n",
            " [5 6]\n",
            " [7 8]]\n",
            "[[1 2 5 6]\n",
            " [3 4 7 8]]\n"
          ],
          "name": "stdout"
        }
      ]
    },
    {
      "cell_type": "markdown",
      "metadata": {
        "id": "TC5ggn25l79j"
      },
      "source": [
        "Функция **column_stack()** объединяет одномерные массивы в качестве столбцов двумерного массива:"
      ]
    },
    {
      "cell_type": "code",
      "metadata": {
        "colab": {
          "base_uri": "https://localhost:8080/"
        },
        "id": "xgF1o-lVl_ut",
        "outputId": "3b8e3aab-ef3e-49ad-e29f-14b745ab9beb"
      },
      "source": [
        "np.column_stack((a, b))"
      ],
      "execution_count": null,
      "outputs": [
        {
          "output_type": "execute_result",
          "data": {
            "text/plain": [
              "array([[1, 2, 5, 6],\n",
              "       [3, 4, 7, 8]])"
            ]
          },
          "metadata": {
            "tags": []
          },
          "execution_count": 20
        }
      ]
    },
    {
      "cell_type": "markdown",
      "metadata": {
        "id": "DXibZBocmD6W"
      },
      "source": [
        "Аналогично для строк имеется функция row_stack()."
      ]
    },
    {
      "cell_type": "code",
      "metadata": {
        "colab": {
          "base_uri": "https://localhost:8080/"
        },
        "id": "orKBrYremGTX",
        "outputId": "cb7ce458-a0ae-4ba7-c7db-da4fe478ecda"
      },
      "source": [
        "np.row_stack((a, b))"
      ],
      "execution_count": null,
      "outputs": [
        {
          "output_type": "execute_result",
          "data": {
            "text/plain": [
              "array([[1, 2],\n",
              "       [3, 4],\n",
              "       [5, 6],\n",
              "       [7, 8]])"
            ]
          },
          "metadata": {
            "tags": []
          },
          "execution_count": 21
        }
      ]
    },
    {
      "cell_type": "markdown",
      "metadata": {
        "id": "nePzVawrmQrZ"
      },
      "source": [
        "# Разбиение массива"
      ]
    },
    {
      "cell_type": "markdown",
      "metadata": {
        "id": "KrVfjgbJmR3w"
      },
      "source": [
        "Используя **hsplit()** вы можете разбить массив вдоль горизонтальной оси, указав либо число возвращаемых массивов одинаковой формы, либо номера столбцов, после которых массив разрезается \"ножницами\":"
      ]
    },
    {
      "cell_type": "code",
      "metadata": {
        "colab": {
          "base_uri": "https://localhost:8080/"
        },
        "id": "tCI3eP2qmUh1",
        "outputId": "6bd95944-c133-4355-e247-040228111e13"
      },
      "source": [
        "a = np.arange(12).reshape((2, 6))\r\n",
        "a\r\n",
        "np.hsplit(a, 3)  # Разбить на 3 части\r\n",
        "np.hsplit(a, (3, 4))  # Разрезать a после третьего и четвёртого столбца"
      ],
      "execution_count": null,
      "outputs": [
        {
          "output_type": "execute_result",
          "data": {
            "text/plain": [
              "[array([[0, 1, 2],\n",
              "        [6, 7, 8]]), array([[3],\n",
              "        [9]]), array([[ 4,  5],\n",
              "        [10, 11]])]"
            ]
          },
          "metadata": {
            "tags": []
          },
          "execution_count": 22
        }
      ]
    },
    {
      "cell_type": "markdown",
      "metadata": {
        "id": "6S7zem5MmZmV"
      },
      "source": [
        "Функция vsplit() разбивает массив вдоль вертикальной оси, а array_split() позволяет указать оси, вдоль которых произойдет разбиение."
      ]
    },
    {
      "cell_type": "markdown",
      "metadata": {
        "id": "_D230UwlnFVN"
      },
      "source": [
        "# NumPy  random"
      ]
    },
    {
      "cell_type": "markdown",
      "metadata": {
        "id": "lLUOZCXUnJDT"
      },
      "source": [
        "1. Создавать списки, используя встроенный модуль random, а затем преобразовывать их в **numpy.array**:"
      ]
    },
    {
      "cell_type": "code",
      "metadata": {
        "colab": {
          "base_uri": "https://localhost:8080/"
        },
        "id": "PVtsUow-nPzC",
        "outputId": "5bb0a39f-6ce8-45e9-cf1c-b9c0c1748180"
      },
      "source": [
        "import numpy as np\r\n",
        "import random\r\n",
        "np.array([random.random() for i in range(10)])"
      ],
      "execution_count": null,
      "outputs": [
        {
          "output_type": "execute_result",
          "data": {
            "text/plain": [
              "array([0.6573008 , 0.29354028, 0.14640781, 0.51997406, 0.41071396,\n",
              "       0.09867844, 0.16981854, 0.54959453, 0.91482495, 0.85526269])"
            ]
          },
          "metadata": {
            "tags": []
          },
          "execution_count": 23
        }
      ]
    },
    {
      "cell_type": "markdown",
      "metadata": {
        "id": "JwesSJlonVv_"
      },
      "source": [
        "2.Для создания массивов со случайными элементами служит модуль **numpy.random**."
      ]
    },
    {
      "cell_type": "code",
      "metadata": {
        "id": "f9aE1v5anbJq"
      },
      "source": [
        "import numpy as np  # Импортировать numpy и писать np.random\r\n",
        "np.random\r\n",
        "import numpy.random as rand  # Можно и присвоить отдельное имя. Вопрос вкуса\r\n",
        "rand"
      ],
      "execution_count": null,
      "outputs": []
    },
    {
      "cell_type": "code",
      "metadata": {
        "colab": {
          "base_uri": "https://localhost:8080/"
        },
        "id": "qYFc46CSn2lQ",
        "outputId": "aa9eb0bb-5da7-40b1-a55e-41ae783e6ea5"
      },
      "source": [
        "print(np.random.sample())\r\n",
        "print(np.random.sample(3))\r\n",
        "print(np.random.sample((2, 3)))\r\n",
        "    "
      ],
      "execution_count": null,
      "outputs": [
        {
          "output_type": "stream",
          "text": [
            "0.5654166150766796\n",
            "[0.68378918 0.32126419 0.99948942]\n",
            "[[0.46302914 0.80124331 0.13505769]\n",
            " [0.97246115 0.11903287 0.73531642]]\n"
          ],
          "name": "stdout"
        }
      ]
    },
    {
      "cell_type": "markdown",
      "metadata": {
        "id": "PpIAViCCoF8n"
      },
      "source": [
        "Без аргументов возвращает просто число в промежутке [0, 1), с одним целым числом - одномерный массив, с кортежем - массив с размерами, указанными в кортеже (все числа - из промежутка [0, 1)).\r\n",
        "\r\n",
        "С помощью функции randint или random_integers можно создать массив из целых чисел. Аргументы: low, high, size: от какого, до какого числа (randint не включает в себя это число, а random_integers включает), и size - размеры массива."
      ]
    },
    {
      "cell_type": "code",
      "metadata": {
        "id": "DZURJoDAoG_U"
      },
      "source": [
        "print(np.random.randint(0, 3, 10))\r\n",
        "print(np.random.random_integers(0, 3, 10))\r\n",
        "print(np.random.randint(0, 3, (2, 10)))\r\n"
      ],
      "execution_count": null,
      "outputs": []
    },
    {
      "cell_type": "markdown",
      "metadata": {
        "id": "4-7qv8i3ophh"
      },
      "source": [
        ""
      ]
    }
  ]
}