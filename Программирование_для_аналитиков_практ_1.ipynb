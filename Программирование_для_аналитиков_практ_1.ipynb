{
  "nbformat": 4,
  "nbformat_minor": 0,
  "metadata": {
    "colab": {
      "name": "Программирование для аналитиков практ 1.ipynb",
      "provenance": [],
      "authorship_tag": "ABX9TyMEKVAzGzY6f19MFHgK+I8F",
      "include_colab_link": true
    },
    "kernelspec": {
      "name": "python3",
      "display_name": "Python 3"
    }
  },
  "cells": [
    {
      "cell_type": "markdown",
      "metadata": {
        "id": "view-in-github",
        "colab_type": "text"
      },
      "source": [
        "<a href=\"https://colab.research.google.com/github/BosenkoTM/ProgA/blob/main/%D0%9F%D1%80%D0%BE%D0%B3%D1%80%D0%B0%D0%BC%D0%BC%D0%B8%D1%80%D0%BE%D0%B2%D0%B0%D0%BD%D0%B8%D0%B5_%D0%B4%D0%BB%D1%8F_%D0%B0%D0%BD%D0%B0%D0%BB%D0%B8%D1%82%D0%B8%D0%BA%D0%BE%D0%B2_%D0%BF%D1%80%D0%B0%D0%BA%D1%82_1.ipynb\" target=\"_parent\"><img src=\"https://colab.research.google.com/assets/colab-badge.svg\" alt=\"Open In Colab\"/></a>"
      ]
    },
    {
      "cell_type": "code",
      "metadata": {
        "id": "rX3PTcTL2Na3"
      },
      "source": [
        "import timeit \r\n",
        "start_time = timeit.default_timer()\r\n",
        "function_1()\r\n",
        "time_1 = timeit.default_timer() - start_time\r\n",
        "start_time = timeit.default_timer()\r\n",
        "function_2()\r\n",
        "time_2 = timeit.default_timer() - start_time\r\n",
        "print('Function 1 took', time_1)\r\n",
        "print('Function 2 took', time_2)"
      ],
      "execution_count": null,
      "outputs": []
    },
    {
      "cell_type": "markdown",
      "metadata": {
        "id": "sNH7HVhL2of8"
      },
      "source": [
        "протестируем 2 функции в массиве **numpy range()** и **np.arange**() и посмотрим, как они сравниваются."
      ]
    },
    {
      "cell_type": "code",
      "metadata": {
        "id": "ebqiRUJ53I_4"
      },
      "source": [
        "import timeit \r\n",
        "import numpy as np\r\n",
        "\r\n",
        "def time_range(size): \r\n",
        "  for i in range(size): \r\n",
        "    pass \r\n",
        "\r\n",
        "def time_arange(size):\r\n",
        "   np.arange(size)\r\n",
        "\r\n",
        "if __name__ == '__main__': \r\n",
        "     \r\n",
        "     # For smaller arrays\r\n",
        "    #print('Array size: 1000') \r\n",
        "\r\n",
        "    start_time = timeit.default_timer();\r\n",
        "    time_range(1000) \r\n",
        "    range_time_1 = timeit.default_timer() - start_time \r\n",
        "\r\n",
        "    start_time = timeit.default_timer(); \r\n",
        "    time_arange(1000) \r\n",
        "    arange_time_1 = timeit.default_timer() - start_time \r\n",
        "    \r\n",
        "    # For large arrays \r\n",
        "    #print('Array size: 1000000') \r\n",
        "\r\n",
        "    start_time = timeit.default_timer(); \r\n",
        "    time_range(1000000000) \r\n",
        "    range_time_2 = timeit.default_timer() - start_time \r\n",
        "\r\n",
        "    start_time = timeit.default_timer(); \r\n",
        "    time_arange(1000000000) \r\n",
        "    arange_time_2 = timeit.default_timer() - start_time "
      ],
      "execution_count": 9,
      "outputs": []
    },
    {
      "cell_type": "code",
      "metadata": {
        "colab": {
          "base_uri": "https://localhost:8080/"
        },
        "id": "NSBNxeVo4cmd",
        "outputId": "b51d0abb-cc30-4a53-df91-086554d518c9"
      },
      "source": [
        "print('Array size: 1000') \r\n",
        "\r\n",
        "print(f'size 1000: range() время {range_time_1}') \r\n",
        "print(f'size 1000: arange() время {arange_time_1}') \r\n",
        "\r\n",
        "print('Array size: 1000000') \r\n",
        "print(f'size 1000000: range() время {range_time_2}') \r\n",
        "print(f'size 1000000: arange() время {arange_time_2}')"
      ],
      "execution_count": 10,
      "outputs": [
        {
          "output_type": "stream",
          "text": [
            "Array size: 1000\n",
            "size 1000: range() время 2.095299987558974e-05\n",
            "size 1000: arange() время 1.7822000017986284e-05\n",
            "Array size: 1000000\n",
            "size 1000000: range() время 21.41302990400004\n",
            "size 1000000: arange() время 2.1536559480000506\n"
          ],
          "name": "stdout"
        }
      ]
    }
  ]
}